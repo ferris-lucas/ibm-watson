{
  "nbformat": 4,
  "nbformat_minor": 0,
  "metadata": {
    "colab": {
      "name": "audio-transcription-ibm-speechtotext.ipynb",
      "provenance": []
    },
    "kernelspec": {
      "name": "python3",
      "display_name": "Python 3"
    },
    "language_info": {
      "name": "python"
    }
  },
  "cells": [
    {
      "cell_type": "markdown",
      "metadata": {
        "id": "btnosHmuuV6X"
      },
      "source": [
        "This is a simple notebook to explore some features of IBM environment with IBM Watson. This example uses Speech To Text API to read an audio file and make a transcription of it in a text file."
      ]
    },
    {
      "cell_type": "code",
      "metadata": {
        "colab": {
          "base_uri": "https://localhost:8080/"
        },
        "id": "jYgcbS2t5998",
        "outputId": "66753ec1-d877-4a97-97bf-28cfe6bfdfa8"
      },
      "source": [
        "!pip install ibm_watson"
      ],
      "execution_count": null,
      "outputs": [
        {
          "output_type": "stream",
          "text": [
            "Collecting ibm_watson\n",
            "\u001b[?25l  Downloading https://files.pythonhosted.org/packages/9b/88/395d7d52df29f321ae1150cf9b5a71cef8611570230502597c427bc1e9d9/ibm-watson-5.1.0.tar.gz (382kB)\n",
            "\u001b[K     |████████████████████████████████| 389kB 5.9MB/s \n",
            "\u001b[?25hRequirement already satisfied: requests<3.0,>=2.0 in /usr/local/lib/python3.7/dist-packages (from ibm_watson) (2.23.0)\n",
            "Requirement already satisfied: python_dateutil>=2.5.3 in /usr/local/lib/python3.7/dist-packages (from ibm_watson) (2.8.1)\n",
            "Collecting websocket-client==0.48.0\n",
            "\u001b[?25l  Downloading https://files.pythonhosted.org/packages/8a/a1/72ef9aa26cfe1a75cee09fc1957e4723add9de098c15719416a1ee89386b/websocket_client-0.48.0-py2.py3-none-any.whl (198kB)\n",
            "\u001b[K     |████████████████████████████████| 204kB 8.3MB/s \n",
            "\u001b[?25hCollecting ibm_cloud_sdk_core>=3.3.6\n",
            "  Downloading https://files.pythonhosted.org/packages/dd/24/ba1f1ac7e6dad5efe88362fe9fcf548f7104daf3ed4ec2333b2ae35a7a21/ibm-cloud-sdk-core-3.9.0.tar.gz\n",
            "Requirement already satisfied: urllib3!=1.25.0,!=1.25.1,<1.26,>=1.21.1 in /usr/local/lib/python3.7/dist-packages (from requests<3.0,>=2.0->ibm_watson) (1.24.3)\n",
            "Requirement already satisfied: certifi>=2017.4.17 in /usr/local/lib/python3.7/dist-packages (from requests<3.0,>=2.0->ibm_watson) (2020.12.5)\n",
            "Requirement already satisfied: idna<3,>=2.5 in /usr/local/lib/python3.7/dist-packages (from requests<3.0,>=2.0->ibm_watson) (2.10)\n",
            "Requirement already satisfied: chardet<4,>=3.0.2 in /usr/local/lib/python3.7/dist-packages (from requests<3.0,>=2.0->ibm_watson) (3.0.4)\n",
            "Requirement already satisfied: six>=1.5 in /usr/local/lib/python3.7/dist-packages (from python_dateutil>=2.5.3->ibm_watson) (1.15.0)\n",
            "Collecting PyJWT<3.0.0,>=2.0.1\n",
            "  Downloading https://files.pythonhosted.org/packages/b4/9b/8850f99027ed029af6828199cc87179eaccbbf1f9e6e373e7f0177d32dad/PyJWT-2.0.1-py3-none-any.whl\n",
            "Building wheels for collected packages: ibm-watson, ibm-cloud-sdk-core\n",
            "  Building wheel for ibm-watson (setup.py) ... \u001b[?25l\u001b[?25hdone\n",
            "  Created wheel for ibm-watson: filename=ibm_watson-5.1.0-cp37-none-any.whl size=375439 sha256=29fb7ca022a31328bfdd53192107fa9a88c50837aec86b6d95be061c521d7636\n",
            "  Stored in directory: /root/.cache/pip/wheels/49/6d/cf/1d91261b96363da78bf9b02699fd2262e6b5dad179500690c1\n",
            "  Building wheel for ibm-cloud-sdk-core (setup.py) ... \u001b[?25l\u001b[?25hdone\n",
            "  Created wheel for ibm-cloud-sdk-core: filename=ibm_cloud_sdk_core-3.9.0-cp37-none-any.whl size=59612 sha256=ddd8db79fc9fb4cecf07e8ae6de46cd9321f60f497d338aab7541c31c08639d8\n",
            "  Stored in directory: /root/.cache/pip/wheels/a2/23/f2/ae9db79b4234ed0fc74bf00bc97bcd16440ab2764c5f443167\n",
            "Successfully built ibm-watson ibm-cloud-sdk-core\n",
            "Installing collected packages: websocket-client, PyJWT, ibm-cloud-sdk-core, ibm-watson\n",
            "Successfully installed PyJWT-2.0.1 ibm-cloud-sdk-core-3.9.0 ibm-watson-5.1.0 websocket-client-0.48.0\n"
          ],
          "name": "stdout"
        }
      ]
    },
    {
      "cell_type": "code",
      "metadata": {
        "id": "CQU4aExV6Rog"
      },
      "source": [
        "from ibm_watson import SpeechToTextV1\n",
        "from ibm_cloud_sdk_core.authenticators import IAMAuthenticator"
      ],
      "execution_count": null,
      "outputs": []
    },
    {
      "cell_type": "code",
      "metadata": {
        "id": "GEGVvnd-6GwM"
      },
      "source": [
        "apikey = '4dr6Wkm4SY358Ui9ZbgoyAS4VzQS66bLkoD4xJFsudGZ'\n",
        "url = 'https://api.us-south.speech-to-text.watson.cloud.ibm.com/instances/6e2f7e22-87c1-4833-9313-638630d5d448'"
      ],
      "execution_count": null,
      "outputs": []
    },
    {
      "cell_type": "code",
      "metadata": {
        "id": "FOXboRzj6jQp"
      },
      "source": [
        "#Authenticate\n",
        "authenticator = IAMAuthenticator(apikey)\n",
        "stt = SpeechToTextV1(authenticator=authenticator)\n",
        "stt.set_service_url(url)"
      ],
      "execution_count": null,
      "outputs": []
    },
    {
      "cell_type": "code",
      "metadata": {
        "colab": {
          "base_uri": "https://localhost:8080/"
        },
        "id": "BjetMCaA6rsh",
        "outputId": "a7a6cfe4-9664-49f4-a5b3-12b38b6132f3"
      },
      "source": [
        "#compress and split audio\n",
        "import subprocess\n",
        "import os\n",
        "command = 'ffmpeg -i /audio.wav -vn -ar 44100 -ac 2 -b:a 192k /audio.mp3'\n",
        "subprocess.call(command, shell=True)\n",
        "command = 'ffmpeg -i /audio.mp3 -f segment -segment_time 360 -c copy /%03d.mp3'\n",
        "subprocess.call(command, shell=True)"
      ],
      "execution_count": null,
      "outputs": [
        {
          "output_type": "execute_result",
          "data": {
            "text/plain": [
              "0"
            ]
          },
          "metadata": {
            "tags": []
          },
          "execution_count": 24
        }
      ]
    },
    {
      "cell_type": "code",
      "metadata": {
        "id": "_ZYUELC37WA0"
      },
      "source": [
        "files = []\n",
        "for filename in os.listdir('.'):\n",
        "  if filename.endswith(\".mp3\") and filename != 'audio.mp3':\n",
        "    files.append(filename)\n",
        "files.sort()"
      ],
      "execution_count": null,
      "outputs": []
    },
    {
      "cell_type": "code",
      "metadata": {
        "colab": {
          "base_uri": "https://localhost:8080/"
        },
        "id": "VbYULpoz8km1",
        "outputId": "fd5c3f96-f1dd-4041-cff3-7955d6dd1843"
      },
      "source": [
        "files"
      ],
      "execution_count": null,
      "outputs": [
        {
          "output_type": "execute_result",
          "data": {
            "text/plain": [
              "['000.mp3', '001.mp3']"
            ]
          },
          "metadata": {
            "tags": []
          },
          "execution_count": 26
        }
      ]
    },
    {
      "cell_type": "code",
      "metadata": {
        "id": "PUFjyJHQ8lVg"
      },
      "source": [
        "results = []\n",
        "for filename in files:\n",
        "  with open(filename, 'rb') as f:\n",
        "    res = stt.recognize(audio=f, content_type='audio/mp3', model='ja-JP_NarrowbandModel', continuous=True, \\\n",
        "                        inactivity_timeout=360).get_result()\n",
        "    results.append(res)"
      ],
      "execution_count": null,
      "outputs": []
    },
    {
      "cell_type": "code",
      "metadata": {
        "colab": {
          "base_uri": "https://localhost:8080/"
        },
        "id": "ByALC87z9Xmq",
        "outputId": "af8114f5-21f0-44f5-8a68-5ff3433ba763"
      },
      "source": [
        "results[0]"
      ],
      "execution_count": null,
      "outputs": [
        {
          "output_type": "execute_result",
          "data": {
            "text/plain": [
              "{'result_index': 0,\n",
              " 'results': [{'alternatives': [{'confidence': 0.98, 'transcript': '浦島 太郎 '}],\n",
              "   'final': True},\n",
              "  {'alternatives': [{'confidence': 0.99, 'transcript': '浦島 太郎 '}],\n",
              "   'final': True},\n",
              "  {'alternatives': [{'confidence': 0.5, 'transcript': '昔々 ある 海辺 の 村 に '}],\n",
              "   'final': True},\n",
              "  {'alternatives': [{'confidence': 0.84, 'transcript': '浦島 太郎 と いう 両親 が '}],\n",
              "   'final': True},\n",
              "  {'alternatives': [{'confidence': 0.45, 'transcript': 'んで いました '}],\n",
              "   'final': True},\n",
              "  {'alternatives': [{'confidence': 0.99,\n",
              "     'transcript': '浦島 太郎 は 心 の 優しい 若者 で '}],\n",
              "   'final': True},\n",
              "  {'alternatives': [{'confidence': 0.87,\n",
              "     'transcript': '毎日 海 へ で かけて 魚 を 釣って '}],\n",
              "   'final': True},\n",
              "  {'alternatives': [{'confidence': 0.85,\n",
              "     'transcript': '投資 を 行って お父さん と お母さん を 養って いました '}],\n",
              "   'final': True},\n",
              "  {'alternatives': [{'confidence': 0.84,\n",
              "     'transcript': 'ある日 浦島 太郎 が 海 から 帰る 途中 '}],\n",
              "   'final': True},\n",
              "  {'alternatives': [{'confidence': 0.81,\n",
              "     'transcript': '様 で 子供達 が 集まって 騒いで いる の を 見ました '}],\n",
              "   'final': True},\n",
              "  {'alternatives': [{'confidence': 0.71,\n",
              "     'transcript': '覗いて みると 小さい 亀甲 一匹 捕まえて みんな で 宝 で つついて いじめ て いました '}],\n",
              "   'final': True},\n",
              "  {'alternatives': [{'confidence': 0.83,\n",
              "     'transcript': 'その 亀甲 かわいそう だと 思った 浦島 太郎 は '}],\n",
              "   'final': True},\n",
              "  {'alternatives': [{'confidence': 0.69,\n",
              "     'transcript': '生き物 を いじめて は いけ ない 上 '}],\n",
              "   'final': True},\n",
              "  {'alternatives': [{'confidence': 0.51, 'transcript': 'と 子供 たち に 言って '}],\n",
              "   'final': True},\n",
              "  {'alternatives': [{'confidence': 0.67, 'transcript': '亀甲 助けて やり ました '}],\n",
              "   'final': True},\n",
              "  {'alternatives': [{'confidence': 0.71, 'transcript': '太郎 が 亀の甲 ・ 二 の 設定 '}],\n",
              "   'final': True},\n",
              "  {'alternatives': [{'confidence': 0.81,\n",
              "     'transcript': '海 の 水 の 中 に 戻して やる と '}],\n",
              "   'final': True},\n",
              "  {'alternatives': [{'confidence': 0.69,\n",
              "     'transcript': '亀甲 は 喜んで 河原 から ビア 手足 を 出して '}],\n",
              "   'final': True},\n",
              "  {'alternatives': [{'confidence': 0.48, 'transcript': '水 水 と 泳ぎ 始めました '}],\n",
              "   'final': True},\n",
              "  {'alternatives': [{'confidence': 0.88,\n",
              "     'transcript': 'そして 海 の 底 の 方 へ 戻って いきました '}],\n",
              "   'final': True},\n",
              "  {'alternatives': [{'confidence': 0.74, 'transcript': 'それから 二 三年 経った '}],\n",
              "   'final': True},\n",
              "  {'alternatives': [{'confidence': 0.85, 'transcript': 'ある日 の こと です '}],\n",
              "   'final': True},\n",
              "  {'alternatives': [{'confidence': 0.87, 'transcript': '浦島 太郎 は また 船 に 乗って '}],\n",
              "   'final': True},\n",
              "  {'alternatives': [{'confidence': 0.93, 'transcript': '海 で 魚 を して いました '}],\n",
              "   'final': True},\n",
              "  {'alternatives': [{'confidence': 0.72, 'transcript': 'すると 後ろ の ほう で '}],\n",
              "   'final': True},\n",
              "  {'alternatives': [{'confidence': 0.7, 'transcript': '浦島 さん '}],\n",
              "   'final': True},\n",
              "  {'alternatives': [{'confidence': 0.96, 'transcript': '浦島 さん '}],\n",
              "   'final': True},\n",
              "  {'alternatives': [{'confidence': 0.76, 'transcript': 'と 呼ぶ 声 が しました '}],\n",
              "   'final': True},\n",
              "  {'alternatives': [{'confidence': 0.92,\n",
              "     'transcript': '振り返って みます と 一匹 の 大きい 画面 が '}],\n",
              "   'final': True},\n",
              "  {'alternatives': [{'confidence': 0.83, 'transcript': '船 の そば に 来て いました '}],\n",
              "   'final': True},\n",
              "  {'alternatives': [{'confidence': 0.86,\n",
              "     'transcript': '私 は 前 に 助けて いただいた 上 で ございます '}],\n",
              "   'final': True},\n",
              "  {'alternatives': [{'confidence': 0.77,\n",
              "     'transcript': 'お礼 に 海 の 底 に ある と いう 苦情 に ご案内 いたし ましょう '}],\n",
              "   'final': True},\n",
              "  {'alternatives': [{'confidence': 0.48, 'transcript': 'と 仮面 が 言いました '}],\n",
              "   'final': True},\n",
              "  {'alternatives': [{'confidence': 0.92,\n",
              "     'transcript': '亀 は 背中 に 浦島 太郎 の 設定 '}],\n",
              "   'final': True},\n",
              "  {'alternatives': [{'confidence': 0.5, 'transcript': 'お呼び いたしました '}],\n",
              "   'final': True},\n",
              "  {'alternatives': [{'confidence': 0.57,\n",
              "     'transcript': '青い 海中 を しばらく 潜って いく と '}],\n",
              "   'final': True},\n",
              "  {'alternatives': [{'confidence': 0.82, 'transcript': '急 に 回り が 明るく なりました '}],\n",
              "   'final': True},\n",
              "  {'alternatives': [{'confidence': 0.76, 'transcript': 'あたり 一面 は サンゴ礁 に なり '}],\n",
              "   'final': True},\n",
              "  {'alternatives': [{'confidence': 0.91,\n",
              "     'transcript': 'きれいな 魚 が たくさん 泳いで いました '}],\n",
              "   'final': True},\n",
              "  {'alternatives': [{'confidence': 0.87, 'transcript': 'そして また しばらく 行くと '}],\n",
              "   'final': True},\n",
              "  {'alternatives': [{'confidence': 0.85,\n",
              "     'transcript': '向こう に 立派な 門 が 見え ました '}],\n",
              "   'final': True},\n",
              "  {'alternatives': [{'confidence': 0.89,\n",
              "     'transcript': '魚 たち は 浦島 太郎 竜宮 上 の 中 に 案内 しました '}],\n",
              "   'final': True},\n",
              "  {'alternatives': [{'confidence': 0.59, 'transcript': '竜宮 上 の 中 に 今 '}],\n",
              "   'final': True},\n",
              "  {'alternatives': [{'confidence': 0.78, 'transcript': '美しい 乙姫 様 が 言って '}],\n",
              "   'final': True},\n",
              "  {'alternatives': [{'confidence': 0.62,\n",
              "     'transcript': 'ようこそ 竜宮 松江 いらっしゃい ました '}],\n",
              "   'final': True},\n",
              "  {'alternatives': [{'confidence': 0.99, 'transcript': '先日 は '}],\n",
              "   'final': True},\n",
              "  {'alternatives': [{'confidence': 0.66, 'transcript': '画面 を 助けて くださって '}],\n",
              "   'final': True},\n",
              "  {'alternatives': [{'confidence': 0.99, 'transcript': 'ありがとう ございました '}],\n",
              "   'final': True},\n",
              "  {'alternatives': [{'confidence': 0.97,\n",
              "     'transcript': 'どうぞ ゆっくり 遊んで いって 下さい '}],\n",
              "   'final': True},\n",
              "  {'alternatives': [{'confidence': 0.41, 'transcript': 'と '}], 'final': True},\n",
              "  {'alternatives': [{'confidence': 0.8, 'transcript': '優しい 声 で 言いました '}],\n",
              "   'final': True},\n",
              "  {'alternatives': [{'confidence': 0.78, 'transcript': 'それから 村島 太郎 は '}],\n",
              "   'final': True},\n",
              "  {'alternatives': [{'confidence': 0.83,\n",
              "     'transcript': 'って いう 文章 で きれいな 魚 たち の 踊り を 見たり '}],\n",
              "   'final': True},\n",
              "  {'alternatives': [{'confidence': 1.0, 'transcript': 'お酒 を 飲んだり '}],\n",
              "   'final': True},\n",
              "  {'alternatives': [{'confidence': 0.86, 'transcript': 'すばらしい ご馳走 を 食べたり '}],\n",
              "   'final': True},\n",
              "  {'alternatives': [{'confidence': 0.79,\n",
              "     'transcript': '乙姫 様 と 楽しく お話し したり して '}],\n",
              "   'final': True},\n",
              "  {'alternatives': [{'confidence': 0.79,\n",
              "     'transcript': '夢 の ような 毎日 を 過ごし ました '}],\n",
              "   'final': True},\n",
              "  {'alternatives': [{'confidence': 0.88,\n",
              "     'transcript': 'ところが しばらく すると 浦島 太郎 は 村 に いる お父さん と お母さん の こと が 心配 に なりました '}],\n",
              "   'final': True},\n",
              "  {'alternatives': [{'confidence': 0.82,\n",
              "     'transcript': 'そして 早く うち に 帰りたい と 思い ました '}],\n",
              "   'final': True},\n",
              "  {'alternatives': [{'confidence': 0.5, 'transcript': 'その事 乙姫 様 人 と '}],\n",
              "   'final': True},\n",
              "  {'alternatives': [{'confidence': 0.68,\n",
              "     'transcript': '乙姫 様 は きれい な 発行 持って きて こう 言いました '}],\n",
              "   'final': True},\n",
              "  {'alternatives': [{'confidence': 0.92, 'transcript': '寂しく なります が '}],\n",
              "   'final': True},\n",
              "  {'alternatives': [{'confidence': 0.75,\n",
              "     'transcript': '高知 に お帰り に なりたい のは 当然 です '}],\n",
              "   'final': True},\n",
              "  {'alternatives': [{'confidence': 0.88, 'transcript': 'これ は 玉手箱 です '}],\n",
              "   'final': True},\n",
              "  {'alternatives': [{'confidence': 0.73,\n",
              "     'transcript': 'これ を 持って 気を付け て お帰り に なって 下さい '}],\n",
              "   'final': True},\n",
              "  {'alternatives': [{'confidence': 0.8,\n",
              "     'transcript': 'しかし 決して この 箱 を 開け ない で 下さい ね '}],\n",
              "   'final': True},\n",
              "  {'alternatives': [{'confidence': 0.89, 'transcript': '浦島 太郎 は 玉手箱 を もって '}],\n",
              "   'final': True},\n",
              "  {'alternatives': [{'confidence': 0.69, 'transcript': '亀 の 背中 に なって '}],\n",
              "   'final': True},\n",
              "  {'alternatives': [{'confidence': 0.81, 'transcript': 'ぐらい D_エート 向かい ました '}],\n",
              "   'final': True},\n",
              "  {'alternatives': [{'confidence': 0.64, 'transcript': 'ところ が '}],\n",
              "   'final': True},\n",
              "  {'alternatives': [{'confidence': 0.89, 'transcript': '海辺 に 着く と '}],\n",
              "   'final': True},\n",
              "  {'alternatives': [{'confidence': 0.92,\n",
              "     'transcript': 'あたり の 様子 が すっかり 変わって いました '}],\n",
              "   'final': True}]}"
            ]
          },
          "metadata": {
            "tags": []
          },
          "execution_count": 29
        }
      ]
    },
    {
      "cell_type": "code",
      "metadata": {
        "id": "oQB3uv6_9g5C"
      },
      "source": [
        "text = []\n",
        "for file in results:\n",
        "  for result in file['results']:\n",
        "    text.append(result['alternatives'][0]['transcript'].rstrip() + '.\\n')"
      ],
      "execution_count": null,
      "outputs": []
    },
    {
      "cell_type": "code",
      "metadata": {
        "colab": {
          "base_uri": "https://localhost:8080/"
        },
        "id": "YBQoDsNI9w0Y",
        "outputId": "9ec26706-d283-48f5-a594-9c0ade7f478d"
      },
      "source": [
        "text"
      ],
      "execution_count": null,
      "outputs": [
        {
          "output_type": "execute_result",
          "data": {
            "text/plain": [
              "['浦島 太郎.\\n',\n",
              " '浦島 太郎.\\n',\n",
              " '昔々 ある 海辺 の 村 に.\\n',\n",
              " '浦島 太郎 と いう 両親 が.\\n',\n",
              " 'んで いました.\\n',\n",
              " '浦島 太郎 は 心 の 優しい 若者 で.\\n',\n",
              " '毎日 海 へ で かけて 魚 を 釣って.\\n',\n",
              " '投資 を 行って お父さん と お母さん を 養って いました.\\n',\n",
              " 'ある日 浦島 太郎 が 海 から 帰る 途中.\\n',\n",
              " '様 で 子供達 が 集まって 騒いで いる の を 見ました.\\n',\n",
              " '覗いて みると 小さい 亀甲 一匹 捕まえて みんな で 宝 で つついて いじめ て いました.\\n',\n",
              " 'その 亀甲 かわいそう だと 思った 浦島 太郎 は.\\n',\n",
              " '生き物 を いじめて は いけ ない 上.\\n',\n",
              " 'と 子供 たち に 言って.\\n',\n",
              " '亀甲 助けて やり ました.\\n',\n",
              " '太郎 が 亀の甲 ・ 二 の 設定.\\n',\n",
              " '海 の 水 の 中 に 戻して やる と.\\n',\n",
              " '亀甲 は 喜んで 河原 から ビア 手足 を 出して.\\n',\n",
              " '水 水 と 泳ぎ 始めました.\\n',\n",
              " 'そして 海 の 底 の 方 へ 戻って いきました.\\n',\n",
              " 'それから 二 三年 経った.\\n',\n",
              " 'ある日 の こと です.\\n',\n",
              " '浦島 太郎 は また 船 に 乗って.\\n',\n",
              " '海 で 魚 を して いました.\\n',\n",
              " 'すると 後ろ の ほう で.\\n',\n",
              " '浦島 さん.\\n',\n",
              " '浦島 さん.\\n',\n",
              " 'と 呼ぶ 声 が しました.\\n',\n",
              " '振り返って みます と 一匹 の 大きい 画面 が.\\n',\n",
              " '船 の そば に 来て いました.\\n',\n",
              " '私 は 前 に 助けて いただいた 上 で ございます.\\n',\n",
              " 'お礼 に 海 の 底 に ある と いう 苦情 に ご案内 いたし ましょう.\\n',\n",
              " 'と 仮面 が 言いました.\\n',\n",
              " '亀 は 背中 に 浦島 太郎 の 設定.\\n',\n",
              " 'お呼び いたしました.\\n',\n",
              " '青い 海中 を しばらく 潜って いく と.\\n',\n",
              " '急 に 回り が 明るく なりました.\\n',\n",
              " 'あたり 一面 は サンゴ礁 に なり.\\n',\n",
              " 'きれいな 魚 が たくさん 泳いで いました.\\n',\n",
              " 'そして また しばらく 行くと.\\n',\n",
              " '向こう に 立派な 門 が 見え ました.\\n',\n",
              " '魚 たち は 浦島 太郎 竜宮 上 の 中 に 案内 しました.\\n',\n",
              " '竜宮 上 の 中 に 今.\\n',\n",
              " '美しい 乙姫 様 が 言って.\\n',\n",
              " 'ようこそ 竜宮 松江 いらっしゃい ました.\\n',\n",
              " '先日 は.\\n',\n",
              " '画面 を 助けて くださって.\\n',\n",
              " 'ありがとう ございました.\\n',\n",
              " 'どうぞ ゆっくり 遊んで いって 下さい.\\n',\n",
              " 'と.\\n',\n",
              " '優しい 声 で 言いました.\\n',\n",
              " 'それから 村島 太郎 は.\\n',\n",
              " 'って いう 文章 で きれいな 魚 たち の 踊り を 見たり.\\n',\n",
              " 'お酒 を 飲んだり.\\n',\n",
              " 'すばらしい ご馳走 を 食べたり.\\n',\n",
              " '乙姫 様 と 楽しく お話し したり して.\\n',\n",
              " '夢 の ような 毎日 を 過ごし ました.\\n',\n",
              " 'ところが しばらく すると 浦島 太郎 は 村 に いる お父さん と お母さん の こと が 心配 に なりました.\\n',\n",
              " 'そして 早く うち に 帰りたい と 思い ました.\\n',\n",
              " 'その事 乙姫 様 人 と.\\n',\n",
              " '乙姫 様 は きれい な 発行 持って きて こう 言いました.\\n',\n",
              " '寂しく なります が.\\n',\n",
              " '高知 に お帰り に なりたい のは 当然 です.\\n',\n",
              " 'これ は 玉手箱 です.\\n',\n",
              " 'これ を 持って 気を付け て お帰り に なって 下さい.\\n',\n",
              " 'しかし 決して この 箱 を 開け ない で 下さい ね.\\n',\n",
              " '浦島 太郎 は 玉手箱 を もって.\\n',\n",
              " '亀 の 背中 に なって.\\n',\n",
              " 'ぐらい D_エート 向かい ました.\\n',\n",
              " 'ところ が.\\n',\n",
              " '海辺 に 着く と.\\n',\n",
              " 'あたり の 様子 が すっかり 変わって いました.\\n',\n",
              " '村 の ほう に 歩いて いく と.\\n',\n",
              " '人 が いました が.\\n',\n",
              " 'どの 人 も 知らない 人 でした.\\n',\n",
              " '無駄 に は 自分 の 家 は ありませんでした.\\n',\n",
              " 'お父さん も お母さん も いくら 読んで も 見つかり ません.\\n',\n",
              " '浦島 太郎 は すっかり 困って しまいました.\\n',\n",
              " 'その時 ふと 玉手箱 が.\\n',\n",
              " '目 に 入り ました.\\n',\n",
              " 'そして 浦島 太郎 は それ を そっと 開けて みました.\\n',\n",
              " 'すると 中 から 白い 煙 が 出て きました.\\n',\n",
              " '太郎 が たまって その 煙 を 見て いる と.\\n',\n",
              " '若者 だったら 浦島 太郎 は.\\n',\n",
              " 'たちまち 白い 髭 と 上 の 老人 に なって しまいました.\\n',\n",
              " '浦島 太郎 が 竜宮 荘 で 楽しい 毎日 を 過ごして いる 間 に.\\n',\n",
              " '地上 では 何百 年 も 経って いた の でした.\\n']"
            ]
          },
          "metadata": {
            "tags": []
          },
          "execution_count": 31
        }
      ]
    },
    {
      "cell_type": "code",
      "metadata": {
        "id": "_PLr8ywS930e"
      },
      "source": [
        "with open('/output.txt', 'w') as out:\n",
        "  out.writelines(text)"
      ],
      "execution_count": null,
      "outputs": []
    }
  ]
}