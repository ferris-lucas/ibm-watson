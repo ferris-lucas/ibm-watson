{
  "nbformat": 4,
  "nbformat_minor": 0,
  "metadata": {
    "colab": {
      "name": "language-translation-ibm-watson.ipynb",
      "provenance": []
    },
    "kernelspec": {
      "name": "python3",
      "display_name": "Python 3"
    },
    "language_info": {
      "name": "python"
    }
  },
  "cells": [
    {
      "cell_type": "markdown",
      "metadata": {
        "id": "Jjwq1nzqt99V"
      },
      "source": [
        "This is a simple notebook to explore some features of IBM environment with IBM Watson. This example translates text using Language Translator and then writes the translation to an audio file using Text To Speech API."
      ]
    },
    {
      "cell_type": "code",
      "metadata": {
        "colab": {
          "base_uri": "https://localhost:8080/"
        },
        "id": "JD-9JI2WwjdV",
        "outputId": "230c7e5c-d2a4-45f5-9a3b-541b0c5bed3e"
      },
      "source": [
        "!pip install ibm_watson"
      ],
      "execution_count": null,
      "outputs": [
        {
          "output_type": "stream",
          "text": [
            "Collecting ibm_watson\n",
            "\u001b[?25l  Downloading https://files.pythonhosted.org/packages/9b/88/395d7d52df29f321ae1150cf9b5a71cef8611570230502597c427bc1e9d9/ibm-watson-5.1.0.tar.gz (382kB)\n",
            "\u001b[K     |████████████████████████████████| 389kB 5.0MB/s \n",
            "\u001b[?25hRequirement already satisfied: requests<3.0,>=2.0 in /usr/local/lib/python3.7/dist-packages (from ibm_watson) (2.23.0)\n",
            "Requirement already satisfied: python_dateutil>=2.5.3 in /usr/local/lib/python3.7/dist-packages (from ibm_watson) (2.8.1)\n",
            "Collecting websocket-client==0.48.0\n",
            "\u001b[?25l  Downloading https://files.pythonhosted.org/packages/8a/a1/72ef9aa26cfe1a75cee09fc1957e4723add9de098c15719416a1ee89386b/websocket_client-0.48.0-py2.py3-none-any.whl (198kB)\n",
            "\u001b[K     |████████████████████████████████| 204kB 7.2MB/s \n",
            "\u001b[?25hCollecting ibm_cloud_sdk_core>=3.3.6\n",
            "  Downloading https://files.pythonhosted.org/packages/dd/24/ba1f1ac7e6dad5efe88362fe9fcf548f7104daf3ed4ec2333b2ae35a7a21/ibm-cloud-sdk-core-3.9.0.tar.gz\n",
            "Requirement already satisfied: certifi>=2017.4.17 in /usr/local/lib/python3.7/dist-packages (from requests<3.0,>=2.0->ibm_watson) (2020.12.5)\n",
            "Requirement already satisfied: chardet<4,>=3.0.2 in /usr/local/lib/python3.7/dist-packages (from requests<3.0,>=2.0->ibm_watson) (3.0.4)\n",
            "Requirement already satisfied: urllib3!=1.25.0,!=1.25.1,<1.26,>=1.21.1 in /usr/local/lib/python3.7/dist-packages (from requests<3.0,>=2.0->ibm_watson) (1.24.3)\n",
            "Requirement already satisfied: idna<3,>=2.5 in /usr/local/lib/python3.7/dist-packages (from requests<3.0,>=2.0->ibm_watson) (2.10)\n",
            "Requirement already satisfied: six>=1.5 in /usr/local/lib/python3.7/dist-packages (from python_dateutil>=2.5.3->ibm_watson) (1.15.0)\n",
            "Collecting PyJWT<3.0.0,>=2.0.1\n",
            "  Downloading https://files.pythonhosted.org/packages/b4/9b/8850f99027ed029af6828199cc87179eaccbbf1f9e6e373e7f0177d32dad/PyJWT-2.0.1-py3-none-any.whl\n",
            "Building wheels for collected packages: ibm-watson, ibm-cloud-sdk-core\n",
            "  Building wheel for ibm-watson (setup.py) ... \u001b[?25l\u001b[?25hdone\n",
            "  Created wheel for ibm-watson: filename=ibm_watson-5.1.0-cp37-none-any.whl size=375439 sha256=5d89140259a458010902a7b0ed604807b4c44becb7def1a8c8b51dbaff141dfb\n",
            "  Stored in directory: /root/.cache/pip/wheels/49/6d/cf/1d91261b96363da78bf9b02699fd2262e6b5dad179500690c1\n",
            "  Building wheel for ibm-cloud-sdk-core (setup.py) ... \u001b[?25l\u001b[?25hdone\n",
            "  Created wheel for ibm-cloud-sdk-core: filename=ibm_cloud_sdk_core-3.9.0-cp37-none-any.whl size=59612 sha256=7c2ca3d36eb0c287259e56b0ace2d17861276ebb8a23894b0a7e7dbbc99f03b3\n",
            "  Stored in directory: /root/.cache/pip/wheels/a2/23/f2/ae9db79b4234ed0fc74bf00bc97bcd16440ab2764c5f443167\n",
            "Successfully built ibm-watson ibm-cloud-sdk-core\n",
            "Installing collected packages: websocket-client, PyJWT, ibm-cloud-sdk-core, ibm-watson\n",
            "Successfully installed PyJWT-2.0.1 ibm-cloud-sdk-core-3.9.0 ibm-watson-5.1.0 websocket-client-0.48.0\n"
          ],
          "name": "stdout"
        }
      ]
    },
    {
      "cell_type": "code",
      "metadata": {
        "id": "RUBELAu4wnkV"
      },
      "source": [
        "apikey = '3zal631qwQyIpClkLA8KVCNFMPGlBoWd-kVMScoOndyq'\n",
        "url = 'https://api.us-south.language-translator.watson.cloud.ibm.com/instances/fb4de331-8602-422b-af75-0754afd6f709'"
      ],
      "execution_count": null,
      "outputs": []
    },
    {
      "cell_type": "code",
      "metadata": {
        "id": "uCBxUogRxVue"
      },
      "source": [
        "#import deps\n",
        "from ibm_watson import LanguageTranslatorV3\n",
        "from ibm_cloud_sdk_core.authenticators import IAMAuthenticator"
      ],
      "execution_count": null,
      "outputs": []
    },
    {
      "cell_type": "code",
      "metadata": {
        "id": "L7GIXZiVxgCq"
      },
      "source": [
        "#setup service\n",
        "authenticator = IAMAuthenticator(apikey)\n",
        "lt = LanguageTranslatorV3(version='2018-05-01', authenticator=authenticator)\n",
        "lt.set_service_url(url)"
      ],
      "execution_count": null,
      "outputs": []
    },
    {
      "cell_type": "code",
      "metadata": {
        "colab": {
          "base_uri": "https://localhost:8080/",
          "height": 35
        },
        "id": "Fqp--TW-xxX8",
        "outputId": "55d5f71e-54dd-4d3a-8e71-7b3677488124"
      },
      "source": [
        "#translate\n",
        "text = 'I am so sorry'\n",
        "translation = lt.translate(text=text, model_id='en-ja').get_result()\n",
        "translation['translations'][0]['translation']"
      ],
      "execution_count": null,
      "outputs": [
        {
          "output_type": "execute_result",
          "data": {
            "application/vnd.google.colaboratory.intrinsic+json": {
              "type": "string"
            },
            "text/plain": [
              "'本当にごめんなさい'"
            ]
          },
          "metadata": {
            "tags": []
          },
          "execution_count": 20
        }
      ]
    },
    {
      "cell_type": "code",
      "metadata": {
        "id": "yAeIRPY9yLJv"
      },
      "source": [
        "#identify languages\n",
        "text = '本当にごめんなさい'\n",
        "language = lt.identify(text).get_result()\n",
        "language"
      ],
      "execution_count": null,
      "outputs": []
    },
    {
      "cell_type": "code",
      "metadata": {
        "id": "o6uJIoujyNK9"
      },
      "source": [
        "#Speech to text api\n",
        "ttsapikey = 'ryrEy65wXZmb7z8mzIUezWWW37fgI_A6uS7E7lojhz3U'\n",
        "ttsurl = 'https://api.us-south.text-to-speech.watson.cloud.ibm.com/instances/1d8f7bb0-4b19-4cb3-aeea-a57741f57780'"
      ],
      "execution_count": null,
      "outputs": []
    },
    {
      "cell_type": "code",
      "metadata": {
        "id": "GtfYuRv9z807"
      },
      "source": [
        "from ibm_watson import TextToSpeechV1"
      ],
      "execution_count": null,
      "outputs": []
    },
    {
      "cell_type": "code",
      "metadata": {
        "id": "SpvThzR_0DJz"
      },
      "source": [
        "#Authenticate\n",
        "ttsauthenticator = IAMAuthenticator(ttsapikey)\n",
        "tts = TextToSpeechV1(authenticator=ttsauthenticator)\n",
        "tts.set_service_url(ttsurl)"
      ],
      "execution_count": null,
      "outputs": []
    },
    {
      "cell_type": "code",
      "metadata": {
        "colab": {
          "base_uri": "https://localhost:8080/",
          "height": 35
        },
        "id": "Xq-EkCOg0Pmr",
        "outputId": "3eaf948e-35b8-4bd4-f5a1-fb7698915175"
      },
      "source": [
        "translation = lt.translate(text='I really love the way Japanese language sounds', model_id='en-ja').get_result()\n",
        "text = translation['translations'][0]['translation']\n",
        "text"
      ],
      "execution_count": null,
      "outputs": [
        {
          "output_type": "execute_result",
          "data": {
            "application/vnd.google.colaboratory.intrinsic+json": {
              "type": "string"
            },
            "text/plain": [
              "'私は日本語の音が大好きです'"
            ]
          },
          "metadata": {
            "tags": []
          },
          "execution_count": 38
        }
      ]
    },
    {
      "cell_type": "code",
      "metadata": {
        "id": "BsYO1Z920iN8"
      },
      "source": [
        "with open ('./help.mp3', 'wb') as audio_file:\n",
        "  res = tts.synthesize(text, accept='audio/mp3', voice='ja-JP_EmiV3Voice').get_result()\n",
        "  audio_file.write(res.content)"
      ],
      "execution_count": null,
      "outputs": []
    },
    {
      "cell_type": "code",
      "metadata": {
        "id": "qZmMUdes1OMy"
      },
      "source": [
        ""
      ],
      "execution_count": null,
      "outputs": []
    }
  ]
}